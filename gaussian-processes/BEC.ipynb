{
 "cells": [
  {
   "cell_type": "code",
   "execution_count": 7,
   "metadata": {},
   "outputs": [],
   "source": [
    "import math\n",
    "import torch\n",
    "import gpytorch\n",
    "from matplotlib import pyplot as plt\n",
    "plt.style.use('ggplot')\n",
    "\n",
    "%matplotlib inline\n",
    "%load_ext autoreload\n",
    "%autoreload 2"
   ]
  },
  {
   "cell_type": "code",
   "execution_count": 422,
   "metadata": {},
   "outputs": [],
   "source": [
    "import numpy as np\n",
    "from sklearn.gaussian_process import GaussianProcessRegressor\n",
    "from sklearn.gaussian_process.kernels import RBF, ConstantKernel as C"
   ]
  },
  {
   "cell_type": "markdown",
   "metadata": {},
   "source": [
    "## Data"
   ]
  },
  {
   "cell_type": "code",
   "execution_count": 66,
   "metadata": {},
   "outputs": [],
   "source": [
    "from data import load\n",
    "inputs, outputs, reference = load('bec1d.data')"
   ]
  },
  {
   "cell_type": "code",
   "execution_count": 428,
   "metadata": {},
   "outputs": [
    {
     "data": {
      "text/plain": [
       "tensor(17418)"
      ]
     },
     "execution_count": 428,
     "metadata": {},
     "output_type": "execute_result"
    }
   ],
   "source": [
    "torch.randint(0, N, ())"
   ]
  },
  {
   "cell_type": "code",
   "execution_count": 431,
   "metadata": {},
   "outputs": [],
   "source": [
    "def transform_data_for_gp(datafile='bec1d.data', num_samples=None):\n",
    "    inputs, outputs, reference = load(datafile)\n",
    "    N = len(inputs)\n",
    "    M = num_samples if num_samples else N\n",
    "    assert N == 50000\n",
    "    x_size = len(reference['x'])\n",
    "    assert x_size == 512\n",
    "    g = torch.tensor(inputs).float()\n",
    "    x = torch.tensor(reference['x']).float()\n",
    "    y = torch.tensor(outputs).float()\n",
    "    gx = torch.stack(\n",
    "        [g.view(1, -1).repeat(x_size, 1).t(), x.repeat(N, 1)]\n",
    "    ).permute(1, 0, 2)\n",
    "    gxy = torch.cat([gx, y.view(N, 1, -1)], dim=1)\n",
    "    gxy_tensor_short = gxy.permute(1, 0, 2)[:M].contiguous().view(3, -1).t()\n",
    "    gx_samples = gxy_tensor_short[torch.randint(0, gxy_tensor_short.size(0), (M,))]\n",
    "    X = gx_samples[:, :2]\n",
    "    y = gx_samples[:, -1]\n",
    "    assert X.size() == (M, 2)\n",
    "    assert y.size() == (M, )\n",
    "    \n",
    "    x_pred = x\n",
    "    # g_pred = g[torch.randint(0, x_size, ())].repeat(x_size)\n",
    "\n",
    "    return (X, y), (x_pred, g)\n",
    "\n",
    "\n",
    "(X, y), (x_pred, g) = transform_data_for_gp(num_samples=100)"
   ]
  },
  {
   "cell_type": "markdown",
   "metadata": {},
   "source": [
    "## 2D Gaussian Process"
   ]
  },
  {
   "cell_type": "code",
   "execution_count": 445,
   "metadata": {},
   "outputs": [
    {
     "data": {
      "text/plain": [
       "(2, 100)"
      ]
     },
     "execution_count": 445,
     "metadata": {},
     "output_type": "execute_result"
    }
   ],
   "source": [
    "X.shape[-1], y.shape[-1]"
   ]
  },
  {
   "cell_type": "code",
   "execution_count": 443,
   "metadata": {},
   "outputs": [
    {
     "name": "stderr",
     "output_type": "stream",
     "text": [
      "/usr/local/lib/python3.6/site-packages/sklearn/gaussian_process/gpr.py:457: UserWarning: fmin_l_bfgs_b terminated abnormally with the  state: {'grad': array([-3.76547105e-04, -2.91925803e+01, -2.23549099e-04]), 'task': b'ABNORMAL_TERMINATION_IN_LNSRCH', 'funcalls': 62, 'nit': 11, 'warnflag': 2}\n",
      "  \" state: %s\" % convergence_dict)\n"
     ]
    },
    {
     "data": {
      "text/plain": [
       "GaussianProcessRegressor(alpha=1e-10, copy_X_train=True,\n",
       "             kernel=1**2 * RBF(length_scale=[5, 5]),\n",
       "             n_restarts_optimizer=15, normalize_y=False,\n",
       "             optimizer='fmin_l_bfgs_b', random_state=None)"
      ]
     },
     "execution_count": 443,
     "metadata": {},
     "output_type": "execute_result"
    }
   ],
   "source": [
    "kernel = C(1.0, (1e-3, 1e3)) * RBF([5,5], (1e-2, 1e2))\n",
    "gp = GaussianProcessRegressor(kernel=kernel, n_restarts_optimizer=15)\n",
    "gp.fit(X.data.numpy(), y.data.numpy())"
   ]
  },
  {
   "cell_type": "markdown",
   "metadata": {},
   "source": [
    "## Helpers"
   ]
  },
  {
   "cell_type": "code",
   "execution_count": 423,
   "metadata": {},
   "outputs": [],
   "source": [
    "def to_np(t): return t.data.numpy()\n",
    "def to_to(a): return torch.tensor(a).float()"
   ]
  },
  {
   "cell_type": "code",
   "execution_count": 435,
   "metadata": {},
   "outputs": [],
   "source": [
    "def prepare_prediction_data(datafile='bec1d.data', ):\n",
    "    g_pred = \n",
    "    g_pred = g_pred.repeat(len(x_pred))\n",
    "    gx_pred = torch.stack([g_pred, to_to(x_pred)])\n",
    "    assert to_np(gx_pred).shape == (2, 512)\n",
    "    \n",
    "prepare_prediction_data(X, g, x_pred)"
   ]
  },
  {
   "cell_type": "markdown",
   "metadata": {},
   "source": [
    "## Prediction with Uncertainty Estimates"
   ]
  },
  {
   "cell_type": "code",
   "execution_count": 448,
   "metadata": {},
   "outputs": [],
   "source": [
    "def predict(x, *args, **kwargs):\n",
    "    y_hat_pred, sigma = gp.predict(to_np(x).transpose(), *args, **kwargs)\n",
    "    \n",
    "predict(gx_pred, return_std=True)"
   ]
  },
  {
   "cell_type": "code",
   "execution_count": 446,
   "metadata": {},
   "outputs": [],
   "source": [
    "y_hat_pred, sigma = gp.predict(to_np(gx_pred).transpose(), return_std=True)"
   ]
  },
  {
   "cell_type": "code",
   "execution_count": 449,
   "metadata": {},
   "outputs": [
    {
     "data": {
      "text/plain": [
       "(512, 2)"
      ]
     },
     "execution_count": 449,
     "metadata": {},
     "output_type": "execute_result"
    }
   ],
   "source": [
    "to_np(gx_pred).transpose().shape"
   ]
  },
  {
   "cell_type": "code",
   "execution_count": 477,
   "metadata": {},
   "outputs": [
    {
     "data": {
      "image/png": "[encoded data removed]",
      "text/plain": [
       "<Figure size 432x288 with 1 Axes>"
      ]
     },
     "metadata": {},
     "output_type": "display_data"
    }
   ],
   "source": [
    "def plot_gp_prediction(x_pred, y_pred, y_pred_gp):\n",
    "    # Plot the function, the prediction and the 95% confidence interval based on\n",
    "    # the MSE\n",
    "    plt.figure()\n",
    "    plt.plot(x_pred, y_pred, 'r:', label='waveform')\n",
    "\n",
    "    # plt.plot(x_pred, y_pred, 'r.', markersize=10, label='Observations')\n",
    "    plt.plot(x_pred, y_pred_gp, 'b-', label='Prediction')\n",
    "\n",
    "    plt.fill(np.concatenate([x_pred, x_pred[::-1]]),\n",
    "             np.concatenate([y_pred_gp - 1.9600 * sigma,\n",
    "                            (y_pred_gp + 1.9600 * sigma)[::-1]]),\n",
    "             alpha=.5, fc='b', ec='None', label='95% confidence interval')\n",
    "    \n",
    "    plt.xlabel('$x$')\n",
    "    plt.ylabel('$\\psi\\ (x)$')\n",
    "    plt.ylim(-0.1, 1.1)\n",
    "    plt.legend(loc='upper left')\n",
    "    \n",
    "plot_gp_prediction(dldr.x, dldr.pred_y, gp.predict(dldr.pred_gx))"
   ]
  },
  {
   "cell_type": "code",
   "execution_count": 480,
   "metadata": {},
   "outputs": [],
   "source": [
    "from gp_bec import DataLoader, plot_gp_prediction"
   ]
  },
  {
   "cell_type": "code",
   "execution_count": 481,
   "metadata": {},
   "outputs": [],
   "source": [
    "dldr = DataLoader()"
   ]
  },
  {
   "cell_type": "code",
   "execution_count": 499,
   "metadata": {},
   "outputs": [
    {
     "ename": "KeyboardInterrupt",
     "evalue": "",
     "output_type": "error",
     "traceback": [
      "\u001b[0;31m---------------------------------------------------------------------------\u001b[0m",
      "\u001b[0;31mKeyboardInterrupt\u001b[0m                         Traceback (most recent call last)",
      "\u001b[0;32m<ipython-input-499-d63e1c876a11>\u001b[0m in \u001b[0;36m<module>\u001b[0;34m\u001b[0m\n\u001b[0;32m----> 1\u001b[0;31m \u001b[0mtrainX\u001b[0m\u001b[0;34m,\u001b[0m \u001b[0mtrainY\u001b[0m \u001b[0;34m=\u001b[0m \u001b[0mdldr\u001b[0m\u001b[0;34m.\u001b[0m\u001b[0mprepare_train_data\u001b[0m\u001b[0;34m(\u001b[0m\u001b[0;36m1000\u001b[0m\u001b[0;34m)\u001b[0m\u001b[0;34m\u001b[0m\u001b[0m\n\u001b[0m\u001b[1;32m      2\u001b[0m \u001b[0mgp\u001b[0m\u001b[0;34m.\u001b[0m\u001b[0mfit\u001b[0m\u001b[0;34m(\u001b[0m\u001b[0mtrainX\u001b[0m\u001b[0;34m,\u001b[0m \u001b[0mtrainY\u001b[0m\u001b[0;34m)\u001b[0m\u001b[0;34m\u001b[0m\u001b[0m\n",
      "\u001b[0;32m~/milestones/everything-bayesian/gaussian-processes/gp_bec.py\u001b[0m in \u001b[0;36mprepare_train_data\u001b[0;34m(self, num_samples)\u001b[0m\n\u001b[1;32m     39\u001b[0m     \u001b[0;31m# combine g and x\u001b[0m\u001b[0;34m\u001b[0m\u001b[0;34m\u001b[0m\u001b[0m\n\u001b[1;32m     40\u001b[0m     gx = torch.stack(\n\u001b[0;32m---> 41\u001b[0;31m         \u001b[0;34m[\u001b[0m\u001b[0mg\u001b[0m\u001b[0;34m.\u001b[0m\u001b[0mview\u001b[0m\u001b[0;34m(\u001b[0m\u001b[0;36m1\u001b[0m\u001b[0;34m,\u001b[0m \u001b[0;34m-\u001b[0m\u001b[0;36m1\u001b[0m\u001b[0;34m)\u001b[0m\u001b[0;34m.\u001b[0m\u001b[0mrepeat\u001b[0m\u001b[0;34m(\u001b[0m\u001b[0mself\u001b[0m\u001b[0;34m.\u001b[0m\u001b[0mx_size\u001b[0m\u001b[0;34m,\u001b[0m \u001b[0;36m1\u001b[0m\u001b[0;34m)\u001b[0m\u001b[0;34m.\u001b[0m\u001b[0mt\u001b[0m\u001b[0;34m(\u001b[0m\u001b[0;34m)\u001b[0m\u001b[0;34m,\u001b[0m \u001b[0mx\u001b[0m\u001b[0;34m.\u001b[0m\u001b[0mrepeat\u001b[0m\u001b[0;34m(\u001b[0m\u001b[0mN\u001b[0m\u001b[0;34m,\u001b[0m \u001b[0;36m1\u001b[0m\u001b[0;34m)\u001b[0m\u001b[0;34m]\u001b[0m\u001b[0;34m\u001b[0m\u001b[0m\n\u001b[0m\u001b[1;32m     42\u001b[0m     ).permute(1, 0, 2)\n\u001b[1;32m     43\u001b[0m     \u001b[0mgxy\u001b[0m \u001b[0;34m=\u001b[0m \u001b[0mtorch\u001b[0m\u001b[0;34m.\u001b[0m\u001b[0mcat\u001b[0m\u001b[0;34m(\u001b[0m\u001b[0;34m[\u001b[0m\u001b[0mgx\u001b[0m\u001b[0;34m,\u001b[0m \u001b[0my\u001b[0m\u001b[0;34m.\u001b[0m\u001b[0mview\u001b[0m\u001b[0;34m(\u001b[0m\u001b[0mN\u001b[0m\u001b[0;34m,\u001b[0m \u001b[0;36m1\u001b[0m\u001b[0;34m,\u001b[0m \u001b[0;34m-\u001b[0m\u001b[0;36m1\u001b[0m\u001b[0;34m)\u001b[0m\u001b[0;34m]\u001b[0m\u001b[0;34m,\u001b[0m \u001b[0mdim\u001b[0m\u001b[0;34m=\u001b[0m\u001b[0;36m1\u001b[0m\u001b[0;34m)\u001b[0m\u001b[0;34m\u001b[0m\u001b[0m\n",
      "\u001b[0;31mKeyboardInterrupt\u001b[0m: "
     ]
    }
   ],
   "source": [
    "trainX, trainY = dldr.prepare_train_data(1000)\n",
    "gp.fit(trainX, trainY)"
   ]
  },
  {
   "cell_type": "code",
   "execution_count": 502,
   "metadata": {},
   "outputs": [
    {
     "data": {
      "image/png": "[encoded data removed]",
      "text/plain": [
       "<Figure size 432x288 with 1 Axes>"
      ]
     },
     "metadata": {},
     "output_type": "display_data"
    }
   ],
   "source": [
    "predX, predgX, predY = dldr.prepare_prediction_data(19995)\n",
    "y_pred_gp, sigma = gp.predict(predgX, return_std=True)\n",
    "plot_gp_prediction(dldr.x, predY, y_pred_gp, sigma)"
   ]
  }
 ],
 "metadata": {
  "kernelspec": {
   "display_name": "Python 3",
   "language": "python",
   "name": "python3"
  },
  "language_info": {
   "codemirror_mode": {
    "name": "ipython",
    "version": 3
   },
   "file_extension": ".py",
   "mimetype": "text/x-python",
   "name": "python",
   "nbconvert_exporter": "python",
   "pygments_lexer": "ipython3",
   "version": "3.6.5"
  }
 },
 "nbformat": 4,
 "nbformat_minor": 2
}
